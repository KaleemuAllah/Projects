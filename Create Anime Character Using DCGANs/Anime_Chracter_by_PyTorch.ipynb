{
 "cells": [
  {
   "cell_type": "markdown",
   "metadata": {},
   "source": [
    "# **Creating anime characters using Deep Convolutional Generative Adversarial Networks (DCGANs) and PyTorch**"
   ]
  },
  {
   "cell_type": "markdown",
   "metadata": {},
   "source": [
    "Imagine that you are working for a video game company known for its renowned games featuring unique characters tailored to each player. As the player base continues to expand, the task of manually designing characters for millions of players becomes nearly impossible. Your boss aims to maintain the ability to create distinct characters within the game, and you have been assigned the responsibility of finding a solution to address this challenge. <br>\n",
    "\n",
    "__Generative adversarial networks (GANs) might help!__<br>\n",
    "It is a class of machine learning frameworks, first published in June 2014 <a href=https://cf-courses-data.s3.us.cloud-object-storage.appdomain.cloud/IBM-GPXX0XCEEN/papers/1406.2661.pdf >[1]</a>. <br>\n",
    "GANs can generate new data that follows the statistical features of the data in the training set. GANs are widely used to generate new and realistic photographs that are authentic to human observers. <br>\n",
    "\n",
    "Convolutional networks (CNNs) has seen huge adoption in computer vision applications. Applying the CNNs to GANs models could help us in building a photo generating model. The combined method is called Deep Convolutional Generative Adversarial Networks (DCGANs). <br>"
   ]
  },
  {
   "cell_type": "markdown",
   "metadata": {},
   "source": [
    "# Table of Contents\n",
    "1. Objectives\n",
    "2. Setup\n",
    "   1. Installing Required Libraries\n",
    "   2. Importing Required Libraries\n",
    "   3. Loading Pre-trained model (100 epochs)\n",
    "   4. Defining Helper Functions\n",
    "3. Basic: Generative Adversarial Networks (GANs)\n",
    "   1. Introduction\n",
    "   2. Toy Data\n",
    "   3. The Generator\n",
    "   4. The Loss Function GANs (Optional)\n",
    "   5. Training GANs\n",
    "4. Deep Convolutional Generative Adversarial Networks (DCGANs)\n",
    "   1. Case background\n",
    "   2. Loading the Dataset\n",
    "   3. Creating Data Generator\n",
    "   4. Generator and Discriminator (for DCGANs)\n",
    "   5. Defining Loss Functions\n",
    "   6. Defining Optimizers\n",
    "   7. Create Train Step Function\n",
    "   8. Training DCGANs"
   ]
  },
  {
   "cell_type": "code",
   "execution_count": 1,
   "metadata": {},
   "outputs": [
    {
     "data": {
      "text/plain": [
       "('D_trained.pth', <http.client.HTTPMessage at 0x1b9353ef820>)"
      ]
     },
     "execution_count": 1,
     "metadata": {},
     "output_type": "execute_result"
    }
   ],
   "source": [
    "import urllib.request\n",
    "\n",
    "url1 = \"https://cf-courses-data.s3.us.cloud-object-storage.appdomain.cloud/IBM-GPXX0A52EN/G_trained.pth\"\n",
    "url2 = \"https://cf-courses-data.s3.us.cloud-object-storage.appdomain.cloud/IBM-GPXX0A52EN/D_trained.pth\"\n",
    "\n",
    "urllib.request.urlretrieve(url1, \"G_trained.pth\")\n",
    "urllib.request.urlretrieve(url2, \"D_trained.pth\")"
   ]
  },
  {
   "cell_type": "code",
   "execution_count": 2,
   "metadata": {},
   "outputs": [],
   "source": [
    "import warnings\n",
    "warnings.simplefilter('ignore')\n",
    "import numpy as np\n",
    "import os\n",
    "import matplotlib.pyplot as plt\n",
    "import torch\n",
    "import torch.nn as nn\n",
    "import torch.optim as optim\n",
    "import torch\n",
    "from torch.utils.data import Dataset, DataLoader\n",
    "import torchvision.transforms as transforms\n",
    "from  torch.distributions.multivariate_normal import MultivariateNormal\n",
    "from torch.optim import lr_scheduler\n",
    "from tqdm import tqdm\n",
    "from IPython import display\n",
    "\n",
    "import torchvision.utils as vutils\n",
    "import matplotlib.pyplot as plt\n",
    "%matplotlib inline\n",
    "\n",
    "from PIL import Image\n",
    "from torchvision.transforms import ToPILImage\n",
    "\n",
    "\n",
    "import os\n",
    "from os import listdir\n",
    "from pathlib import Path\n",
    "import imghdr"
   ]
  },
  {
   "cell_type": "code",
   "execution_count": 3,
   "metadata": {},
   "outputs": [],
   "source": [
    "# This function will allow us to easily plot data taking in x values, y values, and a title\n",
    "def plot_distribution(real_data,generated_data,discriminator=None,density=True):\n",
    "\n",
    "    plt.hist(real_data.numpy(), 100, density=density, facecolor='g', alpha=0.75, label='real data')\n",
    "    plt.hist(generated_data.numpy(), 100, density=density, facecolor='r', alpha=0.75,label='generated data q(z) ')\n",
    "\n",
    "    if discriminator:\n",
    "        max_=torch.max(real_data.max(),generated_data.max().detach())\n",
    "        min_=torch.min(real_data.min(),generated_data.min().detach())\n",
    "        x=torch.linspace(start=min_, end=max_, steps=100)\n",
    "        plt.plot(x.numpy(),discriminator(x.view(-1,1)).detach().view(-1).numpy(),label='discriminator',color='k')\n",
    "        plt.plot(x.numpy(),0.5*np.ones(x.shape),label='0.5',color='b')\n",
    "        plt.legend()\n",
    "        plt.show()"
   ]
  },
  {
   "cell_type": "code",
   "execution_count": 4,
   "metadata": {},
   "outputs": [],
   "source": [
    "# plot batch of images\n",
    "def plot_image_batch(my_batch):\n",
    "\n",
    "  fig, axes = plt.subplots(nrows=8, ncols=8, figsize=(10, 10))\n",
    "  img_num=0\n",
    "  for i in range(8):\n",
    "      for j in range(8):\n",
    "          ax = axes[i][j]\n",
    "          img_num+=1\n",
    "\n",
    "          ax.imshow(np.transpose(vutils.make_grid(my_batch[img_num].to(device), padding=2, normalize=True).cpu(),(1,2,0)))\n",
    "  plt.show()"
   ]
  },
  {
   "cell_type": "code",
   "execution_count": 5,
   "metadata": {},
   "outputs": [],
   "source": [
    "def get_accuracy(X,Xhat):\n",
    "    total=0\n",
    "    py_x=D(X)\n",
    "    total=py_x.mean()\n",
    "    py_x=D(Xhat)\n",
    "    total+=py_x.mean()\n",
    "    return total/2"
   ]
  },
  {
   "cell_type": "code",
   "execution_count": 6,
   "metadata": {},
   "outputs": [],
   "source": [
    "class Dataset(Dataset):\n",
    "    def __init__(self, covariance_matrix, mean,n_samples=1000):\n",
    "        self.obj =  MultivariateNormal(loc=mean, covariance_matrix=covariance_matrix)\n",
    "        self.mean=mean\n",
    "        self.covariance_matrix=covariance_matrix\n",
    "        self.X=torch.tensor([[self.obj.sample()] for n in range(n_samples)])\n",
    "\n",
    "    def __len__(self):\n",
    "        return len(self.X)\n",
    "    def __getitem__(self, idx):\n",
    "\n",
    "        return self.X[idx,:]"
   ]
  },
  {
   "cell_type": "code",
   "execution_count": 7,
   "metadata": {},
   "outputs": [],
   "source": [
    "n_samples=10000\n",
    "mean=10*torch.ones(1)\n",
    "covariance_matrix=0.1*torch.eye(1)\n",
    "\n",
    "dataset=Dataset(covariance_matrix=covariance_matrix, mean=mean,n_samples=n_samples)"
   ]
  },
  {
   "cell_type": "code",
   "execution_count": 8,
   "metadata": {},
   "outputs": [],
   "source": [
    "Z=torch.randn(n_samples,1)"
   ]
  },
  {
   "cell_type": "code",
   "execution_count": 9,
   "metadata": {},
   "outputs": [
    {
     "name": "stdout",
     "output_type": "stream",
     "text": [
      "mean: tensor(-0.0054)\n",
      "standard deviation: tensor(0.9983)\n"
     ]
    }
   ],
   "source": [
    "print(\"mean:\",Z.mean())\n",
    "print(\"standard deviation:\",Z.std())"
   ]
  },
  {
   "cell_type": "code",
   "execution_count": 10,
   "metadata": {},
   "outputs": [
    {
     "data": {
      "image/png": "[encoded data removed]",
      "text/plain": [
       "<Figure size 640x480 with 1 Axes>"
      ]
     },
     "metadata": {},
     "output_type": "display_data"
    }
   ],
   "source": [
    "plot_distribution(real_data=dataset.X,generated_data=Z)"
   ]
  },
  {
   "cell_type": "code",
   "execution_count": 11,
   "metadata": {},
   "outputs": [],
   "source": [
    "Xhat=Z+10"
   ]
  },
  {
   "cell_type": "code",
   "execution_count": 12,
   "metadata": {},
   "outputs": [
    {
     "name": "stdout",
     "output_type": "stream",
     "text": [
      "mean: tensor(9.9946)\n",
      "standard deviation: tensor(0.9983)\n"
     ]
    }
   ],
   "source": [
    "print(\"mean:\",Xhat.mean())\n",
    "print(\"standard deviation:\",Xhat.std())"
   ]
  },
  {
   "cell_type": "code",
   "execution_count": 13,
   "metadata": {},
   "outputs": [
    {
     "data": {
      "image/png": "[encoded data removed]",
      "text/plain": [
       "<Figure size 640x480 with 1 Axes>"
      ]
     },
     "metadata": {},
     "output_type": "display_data"
    }
   ],
   "source": [
    "plot_distribution(real_data=dataset.X,generated_data=Xhat)"
   ]
  },
  {
   "cell_type": "code",
   "execution_count": 14,
   "metadata": {},
   "outputs": [],
   "source": [
    "class Generator(nn.Module):\n",
    "    def __init__(self,input_dim=1):\n",
    "        super(Generator,self).__init__()\n",
    "        self.l1=nn.Linear(1,input_dim)\n",
    "\n",
    "    def forward(self, x):\n",
    "        return self.l1(x)\n",
    "G=Generator()"
   ]
  },
  {
   "cell_type": "code",
   "execution_count": 15,
   "metadata": {},
   "outputs": [
    {
     "data": {
      "text/plain": [
       "Generator(\n",
       "  (l1): Linear(in_features=1, out_features=1, bias=True)\n",
       ")"
      ]
     },
     "execution_count": 15,
     "metadata": {},
     "output_type": "execute_result"
    }
   ],
   "source": [
    "G"
   ]
  },
  {
   "cell_type": "code",
   "execution_count": 16,
   "metadata": {},
   "outputs": [],
   "source": [
    "class Discriminator(nn.Module):\n",
    "    def __init__(self,input_dim=1):\n",
    "        super(Discriminator,self).__init__()\n",
    "        self.l1=nn.Linear(1,input_dim)\n",
    "\n",
    "    def forward(self, x):\n",
    "        return torch.sigmoid(self.l1(x))\n",
    "\n",
    "D=Discriminator()"
   ]
  },
  {
   "cell_type": "code",
   "execution_count": 17,
   "metadata": {},
   "outputs": [
    {
     "data": {
      "text/plain": [
       "Discriminator(\n",
       "  (l1): Linear(in_features=1, out_features=1, bias=True)\n",
       ")"
      ]
     },
     "execution_count": 17,
     "metadata": {},
     "output_type": "execute_result"
    }
   ],
   "source": [
    "D"
   ]
  },
  {
   "cell_type": "code",
   "execution_count": 18,
   "metadata": {},
   "outputs": [
    {
     "data": {
      "image/png": "[encoded data removed]",
      "text/plain": [
       "<Figure size 640x480 with 1 Axes>"
      ]
     },
     "metadata": {},
     "output_type": "display_data"
    }
   ],
   "source": [
    "n_samples=1000\n",
    "Xhat=G(torch.randn(n_samples,1))\n",
    "plot_distribution(real_data=dataset.X,generated_data=Xhat.detach(),discriminator=D)"
   ]
  },
  {
   "cell_type": "code",
   "execution_count": 19,
   "metadata": {},
   "outputs": [
    {
     "data": {
      "text/plain": [
       "tensor(1.)"
      ]
     },
     "execution_count": 19,
     "metadata": {},
     "output_type": "execute_result"
    }
   ],
   "source": [
    "py_x=D(dataset.X)\n",
    "torch.sum(py_x>0.5)/len(py_x)"
   ]
  },
  {
   "cell_type": "code",
   "execution_count": 20,
   "metadata": {},
   "outputs": [
    {
     "data": {
      "text/plain": [
       "tensor(0.9430)"
      ]
     },
     "execution_count": 20,
     "metadata": {},
     "output_type": "execute_result"
    }
   ],
   "source": [
    "py_x=D(Z)\n",
    "torch.sum(py_x>0.5)/len(py_x)"
   ]
  },
  {
   "cell_type": "code",
   "execution_count": null,
   "metadata": {},
   "outputs": [],
   "source": []
  }
 ],
 "metadata": {
  "kernelspec": {
   "display_name": "tf_env",
   "language": "python",
   "name": "python3"
  },
  "language_info": {
   "codemirror_mode": {
    "name": "ipython",
    "version": 3
   },
   "file_extension": ".py",
   "mimetype": "text/x-python",
   "name": "python",
   "nbconvert_exporter": "python",
   "pygments_lexer": "ipython3",
   "version": "3.9.18"
  }
 },
 "nbformat": 4,
 "nbformat_minor": 2
}
